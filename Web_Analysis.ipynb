{
 "cells": [
  {
   "cell_type": "code",
   "execution_count": 27,
   "metadata": {},
   "outputs": [],
   "source": [
    "import pandas as pd\n",
    "from urllib.parse import urlparse\n",
    "import numpy as np\n",
    "import nltk.data\n",
    "from requests_html import HTMLSession\n",
    "import requests\n",
    "from bs4 import BeautifulSoup"
   ]
  },
  {
   "cell_type": "code",
   "execution_count": 39,
   "metadata": {},
   "outputs": [],
   "source": [
    "def scrape_statistics():\n",
    "  \"\"\"Scrape the cybersecurity statistics from the CompTIA blog.\"\"\"\n",
    "  url = \"https://connect.comptia.org/blog/cyber-security-stats-facts\"\n",
    "  response = requests.get(url)\n",
    "  soup = BeautifulSoup(response.content, \"html.parser\")\n",
    "\n",
    "  statistics = []\n",
    "  for table in soup.find_all(\"table\"):\n",
    "    for row in table.find_all(\"tr\"):\n",
    "      statistics.append([\n",
    "          row.find_all(\"th\")[0].text,\n",
    "          row.find_all(\"td\")[0].text,\n",
    "      ])\n",
    "\n",
    "  return statistics\n",
    "\n",
    "def analyze_statistics(statistics):\n",
    "  \"\"\"Analyze the cybersecurity statistics.\"\"\"\n",
    "  for statistic in statistics:\n",
    "    print(statistic[0], statistic[1])\n",
    "\n",
    "if __name__ == \"__main__\":\n",
    "  statistics = scrape_statistics()\n",
    "  analyze_statistics(statistics)\n",
    "\n"
   ]
  },
  {
   "cell_type": "code",
   "execution_count": null,
   "metadata": {},
   "outputs": [],
   "source": []
  }
 ],
 "metadata": {
  "kernelspec": {
   "display_name": "Python 3",
   "language": "python",
   "name": "python3"
  },
  "language_info": {
   "codemirror_mode": {
    "name": "ipython",
    "version": 3
   },
   "file_extension": ".py",
   "mimetype": "text/x-python",
   "name": "python",
   "nbconvert_exporter": "python",
   "pygments_lexer": "ipython3",
   "version": "3.9.10"
  },
  "orig_nbformat": 4
 },
 "nbformat": 4,
 "nbformat_minor": 2
}
